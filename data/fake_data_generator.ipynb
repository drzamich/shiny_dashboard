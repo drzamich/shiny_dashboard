{
 "cells": [
  {
   "cell_type": "code",
   "execution_count": 1,
   "metadata": {},
   "outputs": [],
   "source": [
    "import pandas as pd\n",
    "from datetime import datetime\n",
    "from faker import Faker\n",
    "from faker.providers import date_time, python, geo\n",
    "\n",
    "faker = Faker()\n",
    "faker.add_provider(date_time)\n",
    "faker.add_provider(python)"
   ]
  },
  {
   "cell_type": "code",
   "execution_count": 2,
   "metadata": {},
   "outputs": [],
   "source": [
    "start_date = \"2018-01-01\"\n",
    "end_date = \"2019-12-31\""
   ]
  },
  {
   "cell_type": "code",
   "execution_count": 5,
   "metadata": {},
   "outputs": [
    {
     "output_type": "execute_result",
     "data": {
      "text/plain": "        date  units\n0 2018-01-01    148\n1 2018-01-02     36\n2 2018-01-03     91\n3 2018-01-04    184\n4 2018-01-05     99",
      "text/html": "<div>\n<style scoped>\n    .dataframe tbody tr th:only-of-type {\n        vertical-align: middle;\n    }\n\n    .dataframe tbody tr th {\n        vertical-align: top;\n    }\n\n    .dataframe thead th {\n        text-align: right;\n    }\n</style>\n<table border=\"1\" class=\"dataframe\">\n  <thead>\n    <tr style=\"text-align: right;\">\n      <th></th>\n      <th>date</th>\n      <th>units</th>\n    </tr>\n  </thead>\n  <tbody>\n    <tr>\n      <th>0</th>\n      <td>2018-01-01</td>\n      <td>148</td>\n    </tr>\n    <tr>\n      <th>1</th>\n      <td>2018-01-02</td>\n      <td>36</td>\n    </tr>\n    <tr>\n      <th>2</th>\n      <td>2018-01-03</td>\n      <td>91</td>\n    </tr>\n    <tr>\n      <th>3</th>\n      <td>2018-01-04</td>\n      <td>184</td>\n    </tr>\n    <tr>\n      <th>4</th>\n      <td>2018-01-05</td>\n      <td>99</td>\n    </tr>\n  </tbody>\n</table>\n</div>"
     },
     "metadata": {},
     "execution_count": 5
    }
   ],
   "source": [
    "# PRODUCTION\n",
    "dates = pd.date_range(start = start_date, end = end_date).to_pydatetime().tolist()\n",
    "data = { \n",
    "    'date': dates,\n",
    "    'units': [faker.pyint(min_value = 10, max_value=200) for i in range(len(dates))],\n",
    "}\n",
    "production_df = pd.DataFrame(data)\n",
    "production_df.to_csv('production.csv', index = False)\n",
    "production_df.head()"
   ]
  },
  {
   "cell_type": "code",
   "execution_count": 7,
   "metadata": {},
   "outputs": [
    {
     "output_type": "execute_result",
     "data": {
      "text/plain": "            date   profit   loc_lat     loc_lng        loc_city\n173   2018-01-01  1887.17  25.49043    85.94001         Kolkata\n2435  2018-01-01  2999.77  18.65297   -72.09391  Port-au-Prince\n362   2018-01-01  4894.21   6.25947   102.05461         Bangkok\n454   2018-01-01  2871.56  36.06523  -119.01677     Los_Angeles\n1562  2018-01-01  3114.29  15.58552   102.42587         Bangkok",
      "text/html": "<div>\n<style scoped>\n    .dataframe tbody tr th:only-of-type {\n        vertical-align: middle;\n    }\n\n    .dataframe tbody tr th {\n        vertical-align: top;\n    }\n\n    .dataframe thead th {\n        text-align: right;\n    }\n</style>\n<table border=\"1\" class=\"dataframe\">\n  <thead>\n    <tr style=\"text-align: right;\">\n      <th></th>\n      <th>date</th>\n      <th>profit</th>\n      <th>loc_lat</th>\n      <th>loc_lng</th>\n      <th>loc_city</th>\n    </tr>\n  </thead>\n  <tbody>\n    <tr>\n      <th>173</th>\n      <td>2018-01-01</td>\n      <td>1887.17</td>\n      <td>25.49043</td>\n      <td>85.94001</td>\n      <td>Kolkata</td>\n    </tr>\n    <tr>\n      <th>2435</th>\n      <td>2018-01-01</td>\n      <td>2999.77</td>\n      <td>18.65297</td>\n      <td>-72.09391</td>\n      <td>Port-au-Prince</td>\n    </tr>\n    <tr>\n      <th>362</th>\n      <td>2018-01-01</td>\n      <td>4894.21</td>\n      <td>6.25947</td>\n      <td>102.05461</td>\n      <td>Bangkok</td>\n    </tr>\n    <tr>\n      <th>454</th>\n      <td>2018-01-01</td>\n      <td>2871.56</td>\n      <td>36.06523</td>\n      <td>-119.01677</td>\n      <td>Los_Angeles</td>\n    </tr>\n    <tr>\n      <th>1562</th>\n      <td>2018-01-01</td>\n      <td>3114.29</td>\n      <td>15.58552</td>\n      <td>102.42587</td>\n      <td>Bangkok</td>\n    </tr>\n  </tbody>\n</table>\n</div>"
     },
     "metadata": {},
     "execution_count": 7
    }
   ],
   "source": [
    "# SALES\n",
    "rows = 2500\n",
    "locations = [faker.location_on_land() for i in range(rows)]\n",
    "data = {\n",
    "    'date': [faker.date_between_dates(datetime.fromisoformat(start_date), datetime.fromisoformat(end_date)) for i in range(rows)],\n",
    "    'profit': [faker.pyfloat(min_value = -1000, max_value = 5000, right_digits=2) for i in range(rows)],\n",
    "    'loc_lat': [i[0] for i in locations],\n",
    "    'loc_lng': [i[1] for i in locations],\n",
    "    'loc_city': [i[4].split('/')[1] for i in locations]\n",
    "}\n",
    "sales_df = pd.DataFrame(data)\n",
    "sales_df.sort_values('date', inplace = True)\n",
    "sales_df.to_csv('sales.csv', index = False)\n",
    "sales_df.head()"
   ]
  }
 ],
 "metadata": {
  "kernelspec": {
   "display_name": "Python 3",
   "language": "python",
   "name": "python3"
  },
  "language_info": {
   "codemirror_mode": {
    "name": "ipython",
    "version": 3
   },
   "file_extension": ".py",
   "mimetype": "text/x-python",
   "name": "python",
   "nbconvert_exporter": "python",
   "pygments_lexer": "ipython3",
   "version": "3.7.3"
  }
 },
 "nbformat": 4,
 "nbformat_minor": 2
}